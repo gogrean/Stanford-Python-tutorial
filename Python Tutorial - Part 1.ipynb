{
 "cells": [
  {
   "cell_type": "markdown",
   "metadata": {},
   "source": [
    "## Handling Data Written in a File"
   ]
  },
  {
   "cell_type": "markdown",
   "metadata": {},
   "source": [
    "This is a hands-on tutorial for reading numerical data from a file, doing a simple binning of the data, and plotting the results. The code is not optimized for efficiency, but rather for introducing some of the most useful Python data types, loops, and conditional statements. Running this notebook requires Python 3, plus the following packages:\n",
    "\n",
    "* NumPy\n",
    "* matplotlib\n",
    "\n",
    "The ideal way to get them is to use a pre-packaged Python distribution, such as Anaconda. Anaconda comes with `NumPy` and `matplotlib` built in, as well as several of the packages required for the second part of this tutorial. You can download Anaconda from the Continuum page:\n",
    "https://www.continuum.io/downloads\n",
    "\n",
    "The code in individual cells of a Jupyter notebook (such as this one) can be executed with `Control + Enter`. If you prefer to click on virtual buttons, then you can also execute cells by clicking ![run_icon](./images/run_icon.png) in the toolbar above or by clicking on `Cell -> Run Cells`. `Control + Enter` is likely the most useful command you'll need for this tutorial, but below are a few more that could make your life easier (all for Mac keyboards):\n",
    "\n",
    "Command | Explanation\n",
    "---|---\n",
    "Shift + Enter | run cell and move to cell below\n",
    "⌘ + / | toggle comments for selected lines\n",
    "⌘ + [ | indent selected lines\n",
    "⌘ + ] | dedent selected lines\n",
    "M | change cell type to markdown\n",
    "Y | change cell type back to code (default)\n",
    "Option + Left | move one word left\n",
    "Option + Right | move one word right\n",
    "Up | select cell above\n",
    "Down | select cell below\n",
    "Tab | code completion\n",
    "Shift + Tab | view function call signature"
   ]
  },
  {
   "cell_type": "markdown",
   "metadata": {},
   "source": [
    "Writing Python code generally requires sets of functions that are implemented in units called packages. Some of the packages are included in the Standard Python Library and built into Python, while others are available from the Python Package Index, GitHub, etc. Packages can be imported using the `import` command. The first three statements in the cell below load packages from the Standard Python Library. The last two load `matplotlib.pyplot` and `numpy` under the aliases `plt` and `np`, respectively. The command `%matplotlib inline` allows us to display plots in the Jupyter notebook cells."
   ]
  },
  {
   "cell_type": "code",
   "execution_count": null,
   "metadata": {
    "collapsed": false
   },
   "outputs": [],
   "source": [
    "import os\n",
    "import glob\n",
    "from collections import OrderedDict\n",
    "\n",
    "%matplotlib inline\n",
    "import matplotlib.pyplot as plt\n",
    "import numpy as np"
   ]
  },
  {
   "cell_type": "markdown",
   "metadata": {},
   "source": [
    "### Reading Data from File"
   ]
  },
  {
   "cell_type": "markdown",
   "metadata": {},
   "source": [
    "We change to the directory that contains the data and set the variable `fname` to the name of the file that contains our data, in this example `glg_tte_n0_bn090510016_v00.txt`. `fname` will be a string. All strings in Python need to be in single or double quotation marks. To execute this cell without errors, you might need to modify the name of the directory where the file is located; it should be the top directory of the tutorial."
   ]
  },
  {
   "cell_type": "code",
   "execution_count": null,
   "metadata": {
    "collapsed": false
   },
   "outputs": [],
   "source": [
    "os.chdir(\"/Users/gogrean/code/python_tutorial\")\n",
    "fname = \"glg_tte_n0_bn090510016_v00.txt\""
   ]
  },
  {
   "cell_type": "markdown",
   "metadata": {},
   "source": [
    "Below is a very general way of reading data from a file. However, there are routines in `NumPy` that can be used to do the same task in fewer lines of code. \n",
    "\n",
    "The files we are using here contain light curves from a GRB. First we open a file, then we handle the data line by line. Each line will be read as a string. A single line looks like this:\n",
    "\n",
    "   -9.9979  29.7\n",
    "   \n",
    "where the first number is the time relative to the time of the trigger, and the second number is the energy of the photon detected at this time. We only need the first number to plot the light curve. To get it, we \n",
    "\n",
    "(1) split the line based on white spaces (default) to have a list of two strings--one containing the time in string format, the other the energy in string format;\n",
    "\n",
    "(2) set `time_as_string` to the first element of the list;\n",
    "\n",
    "(3) convert `time_as_string` to a float;\n",
    "\n",
    "The individual `time_as_float` values are added one by one to the end of a list called `times`. The list contains the time values at which photons were detected."
   ]
  },
  {
   "cell_type": "code",
   "execution_count": null,
   "metadata": {
    "collapsed": true
   },
   "outputs": [],
   "source": [
    "times = []\n",
    "with open(fname) as f:\n",
    "    for line in f.readlines():\n",
    "        data_in_line = line.split()\n",
    "        time_as_string = data_in_line[0]\n",
    "        time_as_float = float(time_as_string)\n",
    "        times.append(time_as_float)"
   ]
  },
  {
   "cell_type": "markdown",
   "metadata": {},
   "source": [
    "Constants are usually defined in capital letters, the way we define `MIN_BIN_WIDTH` below. This constant sets the minimum width required for a time bin in the light curve."
   ]
  },
  {
   "cell_type": "code",
   "execution_count": null,
   "metadata": {
    "collapsed": false
   },
   "outputs": [],
   "source": [
    "MIN_BIN_WIDTH = 0.01"
   ]
  },
  {
   "cell_type": "markdown",
   "metadata": {},
   "source": [
    "One of the data structures in Python is a dictionary. Unlike lists, which are indexed by number, dictionaries are indexed by keys---like usual dictionaries. However, unlike usual dictionaries, Python dictionaries are unordered. For plotting the light curve, it does not really matter if the bins of the light curve are unordered, so we'll save the light curve in a dictionary. Each entry has the center of the bin (in units of s) as key."
   ]
  },
  {
   "cell_type": "code",
   "execution_count": null,
   "metadata": {
    "collapsed": false
   },
   "outputs": [],
   "source": [
    "lc = {}\n",
    "i = 0\n",
    "j = 1\n",
    "while j < len(times):\n",
    "    if times[j] - times[i] >= MIN_BIN_WIDTH:\n",
    "        c_time = 0.5 * (times[j] + times[i])\n",
    "        lc[c_time] = j - i + 1\n",
    "        i = j\n",
    "        j += 1\n",
    "    else:\n",
    "        j += 1"
   ]
  },
  {
   "cell_type": "markdown",
   "metadata": {},
   "source": [
    "We now change to the `data` directory and read all the light curves there. We look for files with names `glg_tte_*.txt`."
   ]
  },
  {
   "cell_type": "code",
   "execution_count": null,
   "metadata": {
    "collapsed": true
   },
   "outputs": [],
   "source": [
    "os.chdir(\"/Users/gogrean/code/python_tutorial/data\")\n",
    "light_curve = []\n",
    "\n",
    "for file in glob.glob(\"glg_tte_*.txt\"):\n",
    "    print(\"Working on file %s...\" % file)\n",
    "    times = []\n",
    "    with open(file) as f:\n",
    "        for line in f.readlines()[1:]:\n",
    "            data_in_line = line.split()\n",
    "            time_as_string = data_in_line[0]\n",
    "            time_as_float = float(time_as_string)\n",
    "            times.append(time_as_float)\n",
    "\n",
    "    lc = {}\n",
    "    i = 0\n",
    "    j = 1\n",
    "    while j < len(times):\n",
    "        if times[j] - times[i] >= MIN_BIN_WIDTH:\n",
    "            c_time = 0.5 * (times[j] + times[i])\n",
    "            lc[c_time] = j - i + 1\n",
    "            i = j\n",
    "            j += 1\n",
    "        else:\n",
    "            j += 1\n",
    "    light_curve.append(lc)"
   ]
  },
  {
   "cell_type": "markdown",
   "metadata": {},
   "source": [
    "How many light curves are in the `light_curve` list?"
   ]
  },
  {
   "cell_type": "code",
   "execution_count": null,
   "metadata": {
    "collapsed": true
   },
   "outputs": [],
   "source": [
    "n_light_curves = len(light_curve)\n",
    "print(\"There are %i light curves.\" % n_light_curves)"
   ]
  },
  {
   "cell_type": "markdown",
   "metadata": {},
   "source": [
    "To keep it simple, we use only three of the light curves: `glg_tte_n6_bn090510016_v00.txt`, `glg_tte_n7_bn090510016_v00.txt`, and `glg_tte_n9_bn090510016_v00.txt`."
   ]
  },
  {
   "cell_type": "code",
   "execution_count": null,
   "metadata": {
    "collapsed": true
   },
   "outputs": [],
   "source": [
    "os.chdir(\"/Users/gogrean/code/python_tutorial/data\")\n",
    "files = [\"glg_tte_n6_bn090510016_v00.txt\", \n",
    "         \"glg_tte_n7_bn090510016_v00.txt\", \n",
    "         \"glg_tte_n9_bn090510016_v00.txt\"]\n",
    "\n",
    "light_curve = []\n",
    "\n",
    "for file in files:\n",
    "    print(\"Working on file %s...\" % file)\n",
    "    times = []\n",
    "    with open(file) as f:\n",
    "        for line in f.readlines()[1:]:\n",
    "            data_in_line = line.split()\n",
    "            time_as_string = data_in_line[0]\n",
    "            time_as_float = float(time_as_string)\n",
    "            times.append(time_as_float)\n",
    "\n",
    "    lc = {}\n",
    "    i = 0\n",
    "    j = 1\n",
    "    while j < len(times):\n",
    "        if times[j] - times[i] >= MIN_BIN_WIDTH:\n",
    "            c_time = 0.5 * (times[j] + times[i])\n",
    "            lc[c_time] = (j - i + 1) / (times[j] - times[i]) / 1e4\n",
    "            i = j\n",
    "            j += 1\n",
    "        else:\n",
    "            j += 1\n",
    "    light_curve.append(lc)\n",
    "\n",
    "n_light_curves = len(light_curve)"
   ]
  },
  {
   "cell_type": "markdown",
   "metadata": {},
   "source": [
    "To plot the light curves, we'll define three colors. This can be done by simply calling the colors by name, or by using the hex codes in your favorite color combo."
   ]
  },
  {
   "cell_type": "code",
   "execution_count": null,
   "metadata": {
    "collapsed": false
   },
   "outputs": [],
   "source": [
    "# The easy way.\n",
    "colors = ['green', 'blue', 'orange']\n",
    "\n",
    "# The fancy way.\n",
    "# Full list of available colors: \n",
    "# http://matplotlib.org/mpl_examples/color/named_colors.hires.png\n",
    "colors = ['chartreuse', 'lightseagreen', 'coral']\n",
    "\n",
    "# The super fancy way.\n",
    "colors = [\"#4B9E2F\", \"#249CFF\", \"#FFB52B\"]"
   ]
  },
  {
   "cell_type": "markdown",
   "metadata": {},
   "source": [
    "We'll do simple scatter plots of the light curves, with each of the light curves in its own subplot. Each light curve shows count rate as a function of time. This requires plotting the values (count rate) in the individual light curve dictionaries as a function of the corresponding keys (time)."
   ]
  },
  {
   "cell_type": "code",
   "execution_count": null,
   "metadata": {
    "collapsed": true
   },
   "outputs": [],
   "source": [
    "fig, ax = plt.subplots(n_light_curves, figsize=(12,10))\n",
    "for lc, axis, color in zip(light_curve, ax, colors):\n",
    "    times = list(lc.keys())\n",
    "    photons = list(lc.values())\n",
    "    axis.scatter(times, photons, c=color)"
   ]
  },
  {
   "cell_type": "markdown",
   "metadata": {},
   "source": [
    "The plot is not looking horrible (better than default IDL plots...), but it's messy. There are a lot of overlapping data points, axis labels are missing, the font size is too small, there's a lot of unneccessary white space...\n",
    "\n",
    "We can quickly improve the plot by defining ranges for both axis, increasing the font size, and labeling the x axis (the y axis is a little trickier to label without being super hacky, so we'll discuss later how to do it)."
   ]
  },
  {
   "cell_type": "code",
   "execution_count": null,
   "metadata": {
    "collapsed": true
   },
   "outputs": [],
   "source": [
    "plt.rcParams.update({'font.size': 14})\n",
    "\n",
    "fig, ax = plt.subplots(n_light_curves, figsize=(12,10), sharex=True)\n",
    "for lc, axis, color in zip(light_curve, ax, colors):\n",
    "    times = list(lc.keys())\n",
    "    ct_rate = list(lc.values())\n",
    "    axis.scatter(times, ct_rate, marker='s', s=30, c=color)\n",
    "    axis.set_xlim([0,1.3])\n",
    "    axis.set_ylim([np.min(ct_rate)*0.5, np.max(ct_rate)*1.3])\n",
    "\n",
    "plt.xlabel('Time (s)', fontsize=16)"
   ]
  },
  {
   "cell_type": "markdown",
   "metadata": {},
   "source": [
    "The moment of the burst and the structure in the afterglow part of the light curve become clearer if the light curves are shown as step plots."
   ]
  },
  {
   "cell_type": "code",
   "execution_count": null,
   "metadata": {
    "collapsed": true
   },
   "outputs": [],
   "source": [
    "fig, ax = plt.subplots(n_light_curves, figsize=(12,10), sharex=True)\n",
    "for lc, axis, color in zip(light_curve, ax, colors):\n",
    "    times = list(lc.keys())\n",
    "    ct_rate = list(lc.values())\n",
    "    axis.step(times, ct_rate, linewidth=3, c=color)\n",
    "    axis.set_xlim([0,1.3])\n",
    "    axis.set_ylim([np.min(ct_rate)*0.5, np.max(ct_rate)*1.3])\n",
    "\n",
    "plt.xlabel('Time (s)', fontsize=16)"
   ]
  },
  {
   "cell_type": "markdown",
   "metadata": {},
   "source": [
    "Let's put that tricky y label on the plot. The super hacky way to do it, since we have an odd number of plots, would be to add the label to the middle subplot so that it appears centered with all of the subplots. The more elegant way to do it is to define a big plotting area that contains the three subplots, hide the frame and the ticks, and assign the y label to its y axis. This method also ensures that if you decide to use a different number of light curves (including an even number), you will not need to manually adjust the subplot that the y label is associated with."
   ]
  },
  {
   "cell_type": "code",
   "execution_count": null,
   "metadata": {
    "collapsed": true
   },
   "outputs": [],
   "source": [
    "fig, ax = plt.subplots(n_light_curves, figsize=(12,10), sharex=True, sharey=True)\n",
    "for lc, axis, color in zip(light_curve, ax, colors):\n",
    "    times = list(lc.keys())\n",
    "    ct_rate = list(lc.values())\n",
    "    axis.step(times, ct_rate, linewidth=3, c=color)\n",
    "    axis.set_xlim([0,1.3])\n",
    "    axis.set_ylim([np.min(ct_rate)*0.5, np.max(ct_rate)*1.3])\n",
    "\n",
    "plt.xlabel('Time (s)', fontsize=16)\n",
    "\n",
    "big_ax = fig.add_subplot(111, frameon=False)\n",
    "big_ax.set_axis_bgcolor('none')\n",
    "big_ax.tick_params(labelcolor='none', top='off', bottom='off', left='off', right='off')\n",
    "big_ax.set_ylabel(r'Count rate ($10^4$ photons s$^{-1}$)', fontsize=16)"
   ]
  },
  {
   "cell_type": "markdown",
   "metadata": {},
   "source": [
    "The white space between the subplots is unnecessary, so we can set it to 0."
   ]
  },
  {
   "cell_type": "code",
   "execution_count": null,
   "metadata": {
    "collapsed": true
   },
   "outputs": [],
   "source": [
    "fig, ax = plt.subplots(n_light_curves, figsize=(12,10), sharex=True, sharey=True)\n",
    "for lc, axis, color in zip(light_curve, ax, colors):\n",
    "    times = list(lc.keys())\n",
    "    ct_rate = list(lc.values())\n",
    "    axis.step(times, ct_rate, c=color, linewidth=3)\n",
    "    axis.set_xlim([0,1.3])\n",
    "    axis.set_ylim([np.min(ct_rate)*0.5, np.max(ct_rate)*1.3])\n",
    "\n",
    "plt.xlabel('Time (s)', fontsize=16)\n",
    "\n",
    "big_ax = fig.add_subplot(111, frameon=False)\n",
    "big_ax.set_axis_bgcolor('none')\n",
    "big_ax.tick_params(labelcolor='none', top='off', bottom='off', left='off', right='off')\n",
    "big_ax.set_ylabel(r'Count rate ($10^4$ photons s$^{-1}$)', fontsize=16)\n",
    "\n",
    "fig.subplots_adjust(hspace=0)"
   ]
  },
  {
   "cell_type": "markdown",
   "metadata": {},
   "source": [
    "We can also add some dashed lines to mark the position of the peaks and check that they are approximately the same in the three light curves."
   ]
  },
  {
   "cell_type": "code",
   "execution_count": null,
   "metadata": {
    "collapsed": true
   },
   "outputs": [],
   "source": [
    "# Estimates for the peak times.\n",
    "peak_loc = [0.54, 0.58, 0.665, 0.73, 0.825]\n",
    "\n",
    "fig, ax = plt.subplots(n_light_curves, figsize=(12,10), sharex=True, sharey=True)\n",
    "for lc, axis, color in zip(light_curve, ax, colors):\n",
    "    times = list(lc.keys())\n",
    "    ct_rate = list(lc.values())\n",
    "    axis.step(times, ct_rate, c=color, linewidth=3)\n",
    "    for peak in peak_loc:\n",
    "        axis.plot([peak]*2, [0,10], c=color, linestyle='dashed', linewidth=2, alpha=0.5)\n",
    "    axis.set_xlim([0,1.3])\n",
    "    axis.set_ylim([np.min(ct_rate)*0.5, np.max(ct_rate)*1.3])\n",
    "\n",
    "plt.xlabel('Time (s)', fontsize=16)\n",
    "\n",
    "big_ax = fig.add_subplot(111, frameon=False)\n",
    "big_ax.set_axis_bgcolor('none')\n",
    "big_ax.tick_params(labelcolor='none', top='off', bottom='off', left='off', right='off')\n",
    "big_ax.set_ylabel(r'Count rate ($10^4$ photons s$^{-1}$)', fontsize=16)\n",
    "\n",
    "fig.subplots_adjust(hspace=0)"
   ]
  },
  {
   "cell_type": "markdown",
   "metadata": {},
   "source": [
    "One important thing missing from the light curves are error bars. Adding error bars on top of a step plot looks weird, so we'll revert back to a scatter plot just to illustrate how to add simple error bars. In the last step, we'll add the uncertainty ranges on top of the step plot as a partially transparent area.\n",
    "\n",
    "The uncertainties are not part of our current light curve dictionaries. Also, since the dictionary contains count rates rather than counts, we cannot simply take the square root of the bin values. Instead, we redefine the dictionary such that each bin still has the time as key, but has a tuple as value rather than a float; the tuple contains the count rate and the uncertainty on it."
   ]
  },
  {
   "cell_type": "code",
   "execution_count": null,
   "metadata": {
    "collapsed": true
   },
   "outputs": [],
   "source": [
    "os.chdir(\"/Users/gogrean/code/python_tutorial/data\")\n",
    "files = [\"glg_tte_n6_bn090510016_v00.txt\", \n",
    "         \"glg_tte_n7_bn090510016_v00.txt\", \n",
    "         \"glg_tte_n9_bn090510016_v00.txt\"]\n",
    "light_curve = []\n",
    "\n",
    "for file in files:\n",
    "    print(\"Working on file %s...\" % file)\n",
    "    times = []\n",
    "    with open(file) as f:\n",
    "        for line in f.readlines()[1:]:\n",
    "            data_in_line = line.split()\n",
    "            time_as_string = data_in_line[0]\n",
    "            time_as_float = float(time_as_string)\n",
    "            times.append(time_as_float)\n",
    "\n",
    "    lc = {}\n",
    "    i = 0\n",
    "    j = 1\n",
    "    while j < len(times):\n",
    "        if times[j] - times[i] >= MIN_BIN_WIDTH:\n",
    "            c_time = 0.5 * (times[j] + times[i])\n",
    "            lc[c_time] = ((j - i + 1) / (times[j] - times[i]) / 1e4,\n",
    "                          np.sqrt(j - i + 1) / (times[j] - times[i]) / 1e4)\n",
    "            i = j\n",
    "            j += 1\n",
    "        else:\n",
    "            j += 1\n",
    "    light_curve.append(lc)\n",
    "\n",
    "n_light_curves = len(light_curve)\n",
    "\n",
    "fig, ax = plt.subplots(n_light_curves, figsize=(12,10), sharex=True, sharey=True)\n",
    "for lc, axis, color in zip(light_curve, ax, colors):\n",
    "    times = list(lc.keys())\n",
    "    ct_rate = [x[0] for x in lc.values()]\n",
    "    ct_rate_err = [x[1] for x in lc.values()]\n",
    "    axis.scatter(times, ct_rate, c=color, marker='s', s=30)\n",
    "    for peak in peak_loc:\n",
    "        axis.plot([peak]*2, [0,10], c=color, linestyle='dashed', linewidth=2, alpha=0.5)\n",
    "    axis.set_xlim([0,1.3])\n",
    "    axis.set_ylim([np.min(ct_rate)*0.5, np.max(ct_rate)*1.3])\n",
    "    \n",
    "    axis.errorbar(times, ct_rate, yerr=ct_rate_err, color=color, fmt='s')\n",
    "\n",
    "plt.xlabel('Time (s)', fontsize=16)\n",
    "\n",
    "big_ax = fig.add_subplot(111, frameon=False)\n",
    "big_ax.set_axis_bgcolor('none')\n",
    "big_ax.tick_params(labelcolor='none', top='off', bottom='off', left='off', right='off')\n",
    "big_ax.set_ylabel(r'Count rate ($10^4$ photons/s)', fontsize=16)\n",
    "\n",
    "fig.subplots_adjust(hspace=0)"
   ]
  },
  {
   "cell_type": "markdown",
   "metadata": {},
   "source": [
    "This plot looks better, but the number of data points and lines make it a bit messy. So instead we'll add the uncertainty ranges using matplotlib's `fill_between` function to 'color' between the minimum (val - sigma) and maximum (val + sigma) values of each bin. We set the transparency of this colored area to 0.5, so that we can still see the step plot.\n",
    "\n",
    "Here, when calculating the min and the max values of each bin, the order of the bins actually matters; if the light curve bins are unordered, then the order of the elements in the lists containing the min and max values will be different than that of the elements containing the times and count rates. Therefore, we'll use an ordered dictionary, which is a data structure imported from the `collections` package. An ordered dictionary adds a new element to the end of the dictionary, so in our case the entries will be in ascending order of time.\n",
    "\n",
    "As a last step, we'll also extract the detector name from the file name and label the subplots."
   ]
  },
  {
   "cell_type": "code",
   "execution_count": null,
   "metadata": {
    "collapsed": true
   },
   "outputs": [],
   "source": [
    "os.chdir(\"/Users/gogrean/code/python_tutorial/data\")\n",
    "files = [\"glg_tte_n6_bn090510016_v00.txt\", \n",
    "         \"glg_tte_n7_bn090510016_v00.txt\", \n",
    "         \"glg_tte_n9_bn090510016_v00.txt\"]\n",
    "light_curve = []\n",
    "\n",
    "for file in files:\n",
    "    print(\"Working on file %s...\" % file)\n",
    "    times = []\n",
    "    with open(file) as f:\n",
    "        for line in f.readlines()[1:]:\n",
    "            data_in_line = line.split()\n",
    "            time_as_string = data_in_line[0]\n",
    "            time_as_float = float(time_as_string)\n",
    "            times.append(time_as_float)\n",
    "\n",
    "    lc = OrderedDict()\n",
    "    i = 0\n",
    "    j = 1\n",
    "    while j < len(times):\n",
    "        if times[j] - times[i] >= MIN_BIN_WIDTH:\n",
    "            c_time = 0.5 * (times[j] + times[i])\n",
    "            lc[c_time] = ((j - i + 1) / (times[j] - times[i]) / 1e4,\n",
    "                          np.sqrt(j - i + 1) / (times[j] - times[i]) / 1e4)\n",
    "            i = j\n",
    "            j += 1\n",
    "        else:\n",
    "            j += 1\n",
    "    light_curve.append(lc)\n",
    "\n",
    "n_light_curves = len(light_curve)\n",
    "\n",
    "# Get detector from file name.\n",
    "detector = [s[8:10] for s in files]\n",
    "\n",
    "fig, ax = plt.subplots(n_light_curves, figsize=(12,10), sharex=True, sharey=True)\n",
    "for det, lc, axis, color in zip(detector, light_curve, ax, colors):\n",
    "    times = list(lc.keys())\n",
    "    ct_rate = [x[0] for x in lc.values()]\n",
    "    ct_rate_err = [x[1] for x in lc.values()]\n",
    "    min_ct_rate = [x[0] - x[1] for x in lc.values()]\n",
    "    max_ct_rate = [x[0] + x[1] for x in lc.values()]\n",
    "    axis.step(times, ct_rate, c=color, linewidth=2)\n",
    "    for peak in peak_loc:\n",
    "        axis.plot([peak]*2, [0,10], c=color, linestyle='dashed', linewidth=2, alpha=0.5)\n",
    "    axis.set_xlim([0,1.3])\n",
    "    axis.set_ylim([np.min(ct_rate)*0.5, np.max(ct_rate)*1.3])\n",
    "    \n",
    "    axis.fill_between(times, min_ct_rate, max_ct_rate, color=color, \n",
    "                      step='pre', alpha=0.3)\n",
    "    axis.text(1.2, 0.9, det.upper(), fontsize=16)\n",
    "\n",
    "plt.xlabel('Time (s)', fontsize=16)\n",
    "\n",
    "big_ax = fig.add_subplot(111, frameon=False)\n",
    "big_ax.set_axis_bgcolor('none')\n",
    "big_ax.tick_params(labelcolor='none', top='off', bottom='off', left='off', right='off')\n",
    "big_ax.set_ylabel(r'Count rate ($10^4$ photons s$^{-1}$)', fontsize=16)\n",
    "\n",
    "fig.subplots_adjust(hspace=0)"
   ]
  },
  {
   "cell_type": "markdown",
   "metadata": {},
   "source": [
    "---"
   ]
  },
  {
   "cell_type": "markdown",
   "metadata": {},
   "source": [
    "*EXERCISE: Write a method to calculate the light curves from a file, and two lambda functions to calculate `min_ct_rate` and `max_ct_rate`. Re-write the code above to use these functions.*"
   ]
  },
  {
   "cell_type": "code",
   "execution_count": null,
   "metadata": {
    "collapsed": false
   },
   "outputs": [],
   "source": [
    "%load /Users/gogrean/code/python_tutorial/ex1_part1.py"
   ]
  },
  {
   "cell_type": "code",
   "execution_count": null,
   "metadata": {
    "collapsed": true
   },
   "outputs": [],
   "source": [
    "%load /Users/gogrean/code/python_tutorial/ex1_part2.py"
   ]
  },
  {
   "cell_type": "markdown",
   "metadata": {},
   "source": [
    "---"
   ]
  },
  {
   "cell_type": "markdown",
   "metadata": {},
   "source": [
    "*EXERCISE: Find the times corresponding to the largest jump between two consecutive bins in each of the light curves.*"
   ]
  },
  {
   "cell_type": "code",
   "execution_count": null,
   "metadata": {
    "collapsed": false
   },
   "outputs": [],
   "source": [
    "%load /Users/gogrean/code/python_tutorial/ex2.py"
   ]
  },
  {
   "cell_type": "markdown",
   "metadata": {},
   "source": [
    "---"
   ]
  }
 ],
 "metadata": {
  "kernelspec": {
   "display_name": "Python 3",
   "language": "python",
   "name": "python3"
  },
  "language_info": {
   "codemirror_mode": {
    "name": "ipython",
    "version": 3
   },
   "file_extension": ".py",
   "mimetype": "text/x-python",
   "name": "python",
   "nbconvert_exporter": "python",
   "pygments_lexer": "ipython3",
   "version": "3.5.2"
  }
 },
 "nbformat": 4,
 "nbformat_minor": 0
}
